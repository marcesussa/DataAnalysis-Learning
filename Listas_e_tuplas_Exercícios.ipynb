{
  "nbformat": 4,
  "nbformat_minor": 0,
  "metadata": {
    "colab": {
      "provenance": []
    },
    "kernelspec": {
      "name": "python3",
      "display_name": "Python 3"
    },
    "language_info": {
      "name": "python"
    }
  },
  "cells": [
    {
      "cell_type": "markdown",
      "metadata": {
        "id": "y4yXQaM1oZJt"
      },
      "source": [
        "#Listas e tuplas\n",
        "Alguns exercícios para você praticar o que apredendeu sobre listas e tuplas"
      ]
    },
    {
      "cell_type": "markdown",
      "metadata": {
        "id": "foQHMOI1lPZ6"
      },
      "source": [
        "### Crie uma lista\n",
        "\n",
        "Criar uma lista com suas comidas favoritas e salve na variavel comida"
      ]
    },
    {
      "cell_type": "code",
      "metadata": {
        "id": "7zHHF7qfnRZe"
      },
      "source": [
        "#Escreva seu código aqui\n",
        "comida =['sorvete','hamburguer','lamen','cheesecake','sushi','café com leite']"
      ],
      "execution_count": 1,
      "outputs": []
    },
    {
      "cell_type": "code",
      "metadata": {
        "id": "4IR78Lj5kmoo"
      },
      "source": [
        "#@title  { display-mode: \"form\" }\n",
        "comidas = ['pudim', 'batata', 'lasanha']"
      ],
      "execution_count": 2,
      "outputs": []
    },
    {
      "cell_type": "code",
      "source": [],
      "metadata": {
        "id": "E-rMETaoXyKu"
      },
      "execution_count": null,
      "outputs": []
    },
    {
      "cell_type": "markdown",
      "metadata": {
        "id": "B9ylDfDaoIr7"
      },
      "source": [
        "### Crie uma nova lista com a quantidade de calorias de cada comida que você citou no exercício anterior e salve na variável `calorias`"
      ]
    },
    {
      "cell_type": "code",
      "metadata": {
        "id": "ht2rHZGGnNhP"
      },
      "source": [
        "calorias = [207,295,436,321,255,45]"
      ],
      "execution_count": 3,
      "outputs": []
    },
    {
      "cell_type": "code",
      "metadata": {
        "id": "n1tUmT89ou-X"
      },
      "source": [
        "#@title  { display-mode: \"form\" }\n",
        "calorias = [1500, 300, 800]"
      ],
      "execution_count": null,
      "outputs": []
    },
    {
      "cell_type": "markdown",
      "metadata": {
        "id": "pebRpt7lo7Gu"
      },
      "source": [
        "### Com a função `sum` descubra a quantidade total de calorias"
      ]
    },
    {
      "cell_type": "code",
      "metadata": {
        "id": "FB9niMMjpKEb",
        "outputId": "4e96e8d1-5862-47ea-f9b7-8f608dbc405f",
        "colab": {
          "base_uri": "https://localhost:8080/"
        }
      },
      "source": [
        "sum(calorias)"
      ],
      "execution_count": 4,
      "outputs": [
        {
          "output_type": "execute_result",
          "data": {
            "text/plain": [
              "1559"
            ]
          },
          "metadata": {},
          "execution_count": 4
        }
      ]
    },
    {
      "cell_type": "code",
      "metadata": {
        "id": "FkGxFRVspLC6"
      },
      "source": [
        "#@title  { display-mode: \"form\" }\n",
        "sum(calorias)"
      ],
      "execution_count": null,
      "outputs": []
    },
    {
      "cell_type": "markdown",
      "metadata": {
        "id": "W0rV1snTpqY0"
      },
      "source": [
        "### Use os colchetes para para selecionar o primeiro item da variável `minha_lista`\n",
        "Dica: Lembre que o Python começa a contar no `0`"
      ]
    },
    {
      "cell_type": "code",
      "metadata": {
        "id": "qLkOUvjSppp0"
      },
      "source": [
        "# Rode essa célula\n",
        "a = 25\n",
        "minha_lista = [1, 2, 3, 'quatro', 5.1, [None, a]]"
      ],
      "execution_count": 5,
      "outputs": []
    },
    {
      "cell_type": "code",
      "metadata": {
        "id": "tnVyK51JDL7C",
        "outputId": "fb3f9bb3-b0aa-43b6-b232-7b765fb1c668",
        "colab": {
          "base_uri": "https://localhost:8080/"
        }
      },
      "source": [
        "minha_lista[0]"
      ],
      "execution_count": 6,
      "outputs": [
        {
          "output_type": "execute_result",
          "data": {
            "text/plain": [
              "1"
            ]
          },
          "metadata": {},
          "execution_count": 6
        }
      ]
    },
    {
      "cell_type": "code",
      "metadata": {
        "id": "vDKMXrAXDgiz"
      },
      "source": [
        "#@title  { display-mode: \"form\" }\n",
        "minha_lista[0]"
      ],
      "execution_count": null,
      "outputs": []
    },
    {
      "cell_type": "markdown",
      "metadata": {
        "id": "tGptabUPCfwv"
      },
      "source": [
        "### Utilize o slice para selecionar do terceiro ao último item da `minha_lista`"
      ]
    },
    {
      "cell_type": "code",
      "metadata": {
        "id": "vBgRafgcD_NS",
        "outputId": "a72ce674-d168-4717-e331-5fc0e8fcf527",
        "colab": {
          "base_uri": "https://localhost:8080/"
        }
      },
      "source": [
        "minha_lista[2:6]"
      ],
      "execution_count": 7,
      "outputs": [
        {
          "output_type": "execute_result",
          "data": {
            "text/plain": [
              "[3, 'quatro', 5.1, [None, 25]]"
            ]
          },
          "metadata": {},
          "execution_count": 7
        }
      ]
    },
    {
      "cell_type": "code",
      "metadata": {
        "id": "yc_KRsSHD_2s"
      },
      "source": [
        "#@title  { display-mode: \"form\" }\n",
        "minha_lista[2:]"
      ],
      "execution_count": null,
      "outputs": []
    },
    {
      "cell_type": "code",
      "metadata": {
        "id": "cn2CcZLZEB9O"
      },
      "source": [],
      "execution_count": null,
      "outputs": []
    },
    {
      "cell_type": "markdown",
      "metadata": {
        "id": "7EbnjKeiN6_c"
      },
      "source": [
        "#  Na seguinte lista multidimensional, acesse o item em negrito\n",
        "[[1,2,3],[4,5,6],[7,8,[9,**10**]]]\n",
        "<br><br>\n",
        "Dica: o índice `-1` seleciona o último elemento da lista"
      ]
    },
    {
      "cell_type": "code",
      "metadata": {
        "id": "Ya7F_kIhO2P_"
      },
      "source": [
        "#Rode esta célula\n",
        "lista_mult = [[1,2,3],[4,5,6],[7,8,[9,10]]]"
      ],
      "execution_count": 8,
      "outputs": []
    },
    {
      "cell_type": "code",
      "metadata": {
        "id": "iVZdm8ZhO_X2",
        "outputId": "f6f80533-bb57-4680-f7c0-e79e17d31141",
        "colab": {
          "base_uri": "https://localhost:8080/"
        }
      },
      "source": [
        "lista_mult[-1][-1][-1]"
      ],
      "execution_count": 10,
      "outputs": [
        {
          "output_type": "execute_result",
          "data": {
            "text/plain": [
              "10"
            ]
          },
          "metadata": {},
          "execution_count": 10
        }
      ]
    },
    {
      "cell_type": "code",
      "metadata": {
        "id": "cxZvnD8mO_Ax"
      },
      "source": [
        "#@title  { display-mode: \"form\" }\n",
        "lista_mult[-1][-1][-1]"
      ],
      "execution_count": null,
      "outputs": []
    },
    {
      "cell_type": "markdown",
      "metadata": {
        "id": "0JvMlY5lKhJ1"
      },
      "source": [
        "### Em uma linha, desempacote os valores de `minha_tupla` nas variáveis `x`, `y` e `z`"
      ]
    },
    {
      "cell_type": "code",
      "metadata": {
        "id": "i2NpAnpGMxcf"
      },
      "source": [
        "#Rode esta célula\n",
        "minha_tupla = (10,20,30)"
      ],
      "execution_count": 11,
      "outputs": []
    },
    {
      "cell_type": "code",
      "metadata": {
        "id": "EmPTc131NSsp"
      },
      "source": [
        "x,y,z=minha_tupla"
      ],
      "execution_count": 13,
      "outputs": []
    },
    {
      "cell_type": "code",
      "metadata": {
        "id": "gFFCuIyyM6JQ"
      },
      "source": [
        "#@title  { display-mode: \"form\" }\n",
        "x,y,z = minha_tupla"
      ],
      "execution_count": null,
      "outputs": []
    },
    {
      "cell_type": "markdown",
      "metadata": {
        "id": "ru4wUDLTHzDa"
      },
      "source": [
        "### (Bônus) Você pode usar o slice em uma `string` assim como na lista. Selecione as 6 primeiras letras da variável `texto2`"
      ]
    },
    {
      "cell_type": "code",
      "metadata": {
        "colab": {
          "base_uri": "https://localhost:8080/"
        },
        "id": "ptZJBHzlIIX0",
        "outputId": "6bcdce8d-b09c-487d-e338-ea03a8d27f5d"
      },
      "source": [
        "texto = \"Estou estudando Python!\"\n",
        "print(texto[0])\n",
        "print(texto[12])\n",
        "print(texto[12:21])"
      ],
      "execution_count": 14,
      "outputs": [
        {
          "output_type": "stream",
          "name": "stdout",
          "text": [
            "E\n",
            "n\n",
            "ndo Pytho\n"
          ]
        }
      ]
    },
    {
      "cell_type": "code",
      "metadata": {
        "id": "969g49e1ITof"
      },
      "source": [
        "#Rode essa célula\n",
        "texto2 = \"Listas e strings são legais\""
      ],
      "execution_count": 15,
      "outputs": []
    },
    {
      "cell_type": "code",
      "metadata": {
        "id": "pf0xcIOcJKhw"
      },
      "source": [
        "#@title  { display-mode: \"form\" }\n",
        "texto2[0:6]"
      ],
      "execution_count": null,
      "outputs": []
    },
    {
      "cell_type": "code",
      "metadata": {
        "id": "sOB4VxveJOVg",
        "outputId": "79283c0e-c3ad-418f-c455-e0e0da14e578",
        "colab": {
          "base_uri": "https://localhost:8080/"
        }
      },
      "source": [
        "print(texto2[0:6])"
      ],
      "execution_count": 17,
      "outputs": [
        {
          "output_type": "stream",
          "name": "stdout",
          "text": [
            "Listas\n"
          ]
        }
      ]
    },
    {
      "cell_type": "markdown",
      "metadata": {
        "id": "AjcDIrJfJ93J"
      },
      "source": [
        "### (Debugging) Encontre e arrume o erro no código abaixo"
      ]
    },
    {
      "cell_type": "code",
      "metadata": {
        "colab": {
          "base_uri": "https://localhost:8080/",
          "height": 197
        },
        "id": "-QmDhOC3KGcD",
        "outputId": "9a55c980-df67-4d3a-cc4f-202d7a0ee2a2"
      },
      "source": [
        "bebidas = ['água', 'refrigerante', 'suco']\n",
        "\n",
        "terceira_bebida = bebidas[3]"
      ],
      "execution_count": null,
      "outputs": [
        {
          "output_type": "error",
          "ename": "IndexError",
          "evalue": "ignored",
          "traceback": [
            "\u001b[0;31m---------------------------------------------------------------------------\u001b[0m",
            "\u001b[0;31mIndexError\u001b[0m                                Traceback (most recent call last)",
            "\u001b[0;32m<ipython-input-15-33670b7eb171>\u001b[0m in \u001b[0;36m<module>\u001b[0;34m()\u001b[0m\n\u001b[1;32m      1\u001b[0m \u001b[0mbebidas\u001b[0m \u001b[0;34m=\u001b[0m \u001b[0;34m[\u001b[0m\u001b[0;34m'água'\u001b[0m\u001b[0;34m,\u001b[0m \u001b[0;34m'refrigerante'\u001b[0m\u001b[0;34m,\u001b[0m \u001b[0;34m'suco'\u001b[0m\u001b[0;34m]\u001b[0m\u001b[0;34m\u001b[0m\u001b[0;34m\u001b[0m\u001b[0m\n\u001b[1;32m      2\u001b[0m \u001b[0;34m\u001b[0m\u001b[0m\n\u001b[0;32m----> 3\u001b[0;31m \u001b[0mterceira_bebida\u001b[0m \u001b[0;34m=\u001b[0m \u001b[0mbebidas\u001b[0m\u001b[0;34m[\u001b[0m\u001b[0;36m3\u001b[0m\u001b[0;34m]\u001b[0m\u001b[0;34m\u001b[0m\u001b[0;34m\u001b[0m\u001b[0m\n\u001b[0m",
            "\u001b[0;31mIndexError\u001b[0m: list index out of range"
          ]
        }
      ]
    },
    {
      "cell_type": "code",
      "metadata": {
        "id": "gls4e5GWKYXx"
      },
      "source": [
        "bebidas = ['água', 'refrigerante', 'suco']\n",
        "\n",
        "terceira_bebida = bebidas[2]"
      ],
      "execution_count": 18,
      "outputs": []
    }
  ]
}