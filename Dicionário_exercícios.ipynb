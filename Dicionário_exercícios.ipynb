{
  "nbformat": 4,
  "nbformat_minor": 0,
  "metadata": {
    "colab": {
      "provenance": []
    },
    "kernelspec": {
      "name": "python3",
      "display_name": "Python 3"
    },
    "language_info": {
      "name": "python"
    }
  },
  "cells": [
    {
      "cell_type": "markdown",
      "metadata": {
        "id": "tIw0UrYG2zi7"
      },
      "source": [
        "# Exercícios de Dicionário"
      ]
    },
    {
      "cell_type": "markdown",
      "metadata": {
        "id": "1pEtZSXU3Exa"
      },
      "source": [
        "## Criação de dicionários"
      ]
    },
    {
      "cell_type": "markdown",
      "metadata": {
        "id": "RNgB9cdH26Uo"
      },
      "source": [
        "### Exercício 1\n",
        "\n",
        "Crie um dicionário chamado `entretenimento` com três `chaves` (filmes, séries, livros) e três `valores` ('Soul', 'The Crown', 'O Pequeno Príncipe'). Para a criação deste dicionário utilize a atribuição direta com as `{}`.\n",
        "\n",
        "Após a criação deste dicionário, imprima o valor associado a chave `'filmes'` utilizando a função print()."
      ]
    },
    {
      "cell_type": "code",
      "metadata": {
        "id": "Ul5WT6rB5rwg",
        "outputId": "f88e9aad-75f6-48d6-a4bd-ba7512d94298",
        "colab": {
          "base_uri": "https://localhost:8080/"
        }
      },
      "source": [
        "entretenimento = {'filmes':'Soul','séries':'The Crown','livros':'O pequeno Príncipe'}\n",
        "print(entretenimento['filmes'])"
      ],
      "execution_count": 2,
      "outputs": [
        {
          "output_type": "stream",
          "name": "stdout",
          "text": [
            "Soul\n"
          ]
        }
      ]
    },
    {
      "cell_type": "code",
      "metadata": {
        "id": "4-pTlxPH2uaJ"
      },
      "source": [
        "#@title  { display-mode: \"form\" }\n",
        "entretenimento = {'filmes': 'Soul', 'séries': 'The Crown', 'livros': 'O Pequeno Príncipe'}\n",
        "\n",
        "print(entretenimento['filmes'])"
      ],
      "execution_count": null,
      "outputs": []
    },
    {
      "cell_type": "markdown",
      "metadata": {
        "id": "UDyAvJNc3CcW"
      },
      "source": [
        "### Exercício 2\n",
        "\n",
        "Crie o mesmo dicionário `entretenimento` do exercício anterior utilizando a função `dict()`.\n",
        "\n",
        "Após a criação deste dicionário, insira um novo par de `chave` e `valor` ('cantoras' e 'Taylor Swift', respectivamente). Imprima o resultado utilizando a função print()."
      ]
    },
    {
      "cell_type": "code",
      "metadata": {
        "id": "qzFGGUUD5y5O",
        "outputId": "b21b4e0c-e347-4be8-e56e-0cc0748f8213",
        "colab": {
          "base_uri": "https://localhost:8080/"
        }
      },
      "source": [
        "entretenimento = dict([('filmes','Soul'),('series','The Crown'),('livros','O Pequeno Príncipe')])\n",
        "print(entretenimento['livros']) #teste de print\n",
        "entretenimento['cantoras']='Taylor Swift'\n",
        "print(entretenimento)\n"
      ],
      "execution_count": 8,
      "outputs": [
        {
          "output_type": "stream",
          "name": "stdout",
          "text": [
            "O Pequeno Príncipe\n",
            "{'filmes': 'Soul', 'series': 'The Crown', 'livros': 'O Pequeno Príncipe', 'cantoras': 'Taylor Swift'}\n"
          ]
        }
      ]
    },
    {
      "cell_type": "code",
      "metadata": {
        "id": "ZBhn4PQo3JTW",
        "outputId": "1f8e1565-f976-4cce-bea7-3379a3c0879b",
        "colab": {
          "base_uri": "https://localhost:8080/"
        }
      },
      "source": [
        "#@title  { display-mode: \"form\" }\n",
        "entretenimento = dict([('filmes', 'Soul'),\n",
        "                       ('séries', 'The Crown'),\n",
        "                       ('livros', 'O Pequeno Príncipe')])\n",
        "\n",
        "entretenimento['cantoras'] = 'Taylor Swift'\n",
        "\n",
        "print(entretenimento)"
      ],
      "execution_count": 5,
      "outputs": [
        {
          "output_type": "stream",
          "name": "stdout",
          "text": [
            "{'filmes': 'Soul', 'séries': 'The Crown', 'livros': 'O Pequeno Príncipe', 'cantoras': 'Taylor Swift'}\n"
          ]
        }
      ]
    },
    {
      "cell_type": "markdown",
      "metadata": {
        "id": "NA1ZJaCa3KZT"
      },
      "source": [
        "## Acessando dados de um dicionário"
      ]
    },
    {
      "cell_type": "markdown",
      "metadata": {
        "id": "Cm3Lrh4k3N-M"
      },
      "source": [
        "### Exercício 3\n",
        "\n",
        "Utilizando o dicionário resultante do exercício 2, imprima com a função `print()` o `valor` associado a chave 'cantoras'. Para acessar o `valor` desta `chave`, utilize a função `get()`."
      ]
    },
    {
      "cell_type": "code",
      "metadata": {
        "id": "h158VoNM51WT",
        "outputId": "e30085ac-dc63-450a-b6ad-306a142dcd94",
        "colab": {
          "base_uri": "https://localhost:8080/"
        }
      },
      "source": [
        "print(entretenimento.get('cantoras'))"
      ],
      "execution_count": 9,
      "outputs": [
        {
          "output_type": "stream",
          "name": "stdout",
          "text": [
            "Taylor Swift\n"
          ]
        }
      ]
    },
    {
      "cell_type": "code",
      "metadata": {
        "id": "OOz1HI0w3NL4"
      },
      "source": [
        "#@title  { display-mode: \"form\" }\n",
        "entretenimento = {'filmes': 'Soul', 'séries': 'The Crown', 'livros': 'O Pequeno Príncipe', 'cantoras': 'Taylor Swift'}\n",
        "\n",
        "print(entretenimento.get('cantoras'))"
      ],
      "execution_count": null,
      "outputs": []
    },
    {
      "cell_type": "markdown",
      "metadata": {
        "id": "fo-IgtwTnhS0"
      },
      "source": [
        "## Remover e adicionar elementos a um dicionário"
      ]
    },
    {
      "cell_type": "markdown",
      "metadata": {
        "id": "xmWaKTT2nq8K"
      },
      "source": [
        "### Exercício 4\n",
        "\n",
        "Vamos exercitar a inserção e remoção de novos elementos de dicionários neste exercício. Vamos criar um novo dicionário seguindo os passos:\n",
        "\n",
        "1. inicialize uma variável chamada `entretenimento` como um dicionário vazio;\n",
        "2. insira três pares de `chave` e `valor`: ('filmes': 'Soul'), ('cantoras': 'Taylor Swift') e ('livros': 'O Pequeno Príncipe');\n",
        "3. imprima o valor do dicionário entretenimento;\n",
        "4. remova o a chave 'filmes' do dicionário;\n",
        "5. imprima novamente o valor do dicionário após a remoção.\n",
        "\n"
      ]
    },
    {
      "cell_type": "code",
      "metadata": {
        "id": "q4uFp7Uq54Nk",
        "outputId": "ffa6f259-1893-4724-a610-0a83cf05fa81",
        "colab": {
          "base_uri": "https://localhost:8080/"
        }
      },
      "source": [
        "entretenimento = dict()\n",
        "entretenimento['filmes']='Soul'\n",
        "print(entretenimento) #check 1\n",
        "entretenimento['cantoras']='Taylor Swift'\n",
        "print(entretenimento) #check 2\n",
        "entretenimento['livros']='O Pequeno Príncipe'\n",
        "print(entretenimento) #check 3\n",
        "del entretenimento['filmes']\n",
        "print(entretenimento)"
      ],
      "execution_count": 10,
      "outputs": [
        {
          "output_type": "stream",
          "name": "stdout",
          "text": [
            "{'filmes': 'Soul'}\n",
            "{'filmes': 'Soul', 'cantoras': 'Taylor Swift'}\n",
            "{'filmes': 'Soul', 'cantoras': 'Taylor Swift', 'livros': 'O Pequeno Príncipe'}\n",
            "{'cantoras': 'Taylor Swift', 'livros': 'O Pequeno Príncipe'}\n"
          ]
        }
      ]
    },
    {
      "cell_type": "code",
      "metadata": {
        "id": "YJu_p0iFnpN4"
      },
      "source": [
        "#@title  { display-mode: \"form\" }\n",
        "entretenimento = {}\n",
        "\n",
        "entretenimento['filmes'] = 'Soul'\n",
        "entretenimento['cantoras'] = 'Taylor Swift'\n",
        "entretenimento['livros'] = 'O Pequeno Príncipe'\n",
        "\n",
        "print(entretenimento)\n",
        "del entretenimento['filmes']\n",
        "print(entretenimento)"
      ],
      "execution_count": null,
      "outputs": []
    },
    {
      "cell_type": "markdown",
      "metadata": {
        "id": "WlstarZcnsNK"
      },
      "source": [
        "### Exercício 5\n",
        "\n",
        "Vamos criar um dicionário que se chama `filmes_por_genero`. Para criar este novo dicionário, utilize a função `dict()` e inicialize a variável `filmes_por_genero` com os seguintes pares:\n",
        "\n",
        "1.   'action': 'Mulan'\n",
        "2.   'romance': 'Clouds'\n",
        "3.   'disney': 'Rava and the Last Dragon'\n",
        "4.   'pixar': 'Soul'\n",
        "\n",
        "Imprima o resultado."
      ]
    },
    {
      "cell_type": "code",
      "metadata": {
        "id": "DPKUOunp56YQ",
        "outputId": "8f4d80e8-1b35-4ed9-a55a-379434c8972e",
        "colab": {
          "base_uri": "https://localhost:8080/"
        }
      },
      "source": [
        "filmes_por_genero =dict([('action','Mulan'),('romance','Clouds'),('disney','Rava and the Lat Dragon'),('pixar','Soul')])\n",
        "print(filmes_por_genero)"
      ],
      "execution_count": 11,
      "outputs": [
        {
          "output_type": "stream",
          "name": "stdout",
          "text": [
            "{'action': 'Mulan', 'romance': 'Clouds', 'disney': 'Rava and the Lat Dragon', 'pixar': 'Soul'}\n"
          ]
        }
      ]
    },
    {
      "cell_type": "code",
      "metadata": {
        "id": "HT-XA30ens_Y"
      },
      "source": [
        "#@title  { display-mode: \"form\" }\n",
        "filmes_por_genero = dict([('action', 'Mulan'), ('romance', 'Clouds'), ('disney', 'Rava and the Last Dragon'), ('pixar', 'Soul')])\n",
        "print(filmes_por_genero)"
      ],
      "execution_count": null,
      "outputs": []
    },
    {
      "cell_type": "markdown",
      "metadata": {
        "id": "s3IBaDx-XY4w"
      },
      "source": [
        "## Verifique se uma chave pertence ao dicionário ou não"
      ]
    },
    {
      "cell_type": "markdown",
      "metadata": {
        "id": "otTjt2NDXf9k"
      },
      "source": [
        "### Exercício 6\n",
        "\n",
        "Utilizando o dicionário de filmes por gênero, verifique se a chave 'pixar' pertence ao dicionário. Se sim, adicione mais um par de `chave` e `valor` ao dicionário: ('musical': 'Over the Moon').\n",
        "\n",
        "O dicionário de filmes por gênero é composto dos seguintes pares de `chave` `valor`:\n",
        "\n",
        "1. 'action': 'Mulan'\n",
        "2. 'romance': 'Clouds'\n",
        "3. 'disney': 'Rava and the Last Dragon'\n",
        "4. 'pixar': 'Soul'\n",
        "\n",
        "Execute novamente o seu código inserindo o novo par somente se a chave 'pixar' **NÃO** existir no dicionário de filmes por gênero.\n"
      ]
    },
    {
      "cell_type": "code",
      "metadata": {
        "id": "GnV3bvaq58-r",
        "outputId": "1524dc3c-7aa0-4668-b76a-207aeba8a3de",
        "colab": {
          "base_uri": "https://localhost:8080/"
        }
      },
      "source": [
        "if 'pixar' in filmes_por_genero:\n",
        "#true\n",
        "  filmes_por_genero['musical']='Over the moon'\n",
        "\n",
        "print(filmes_por_genero)"
      ],
      "execution_count": 14,
      "outputs": [
        {
          "output_type": "stream",
          "name": "stdout",
          "text": [
            "{'action': 'Mulan', 'romance': 'Clouds', 'disney': 'Rava and the Lat Dragon', 'pixar': 'Soul', 'musical': 'Over the moon'}\n"
          ]
        }
      ]
    },
    {
      "cell_type": "code",
      "metadata": {
        "id": "6o4c5ajoXgMN"
      },
      "source": [
        "#@title  { display-mode: \"form\" }\n",
        "\n",
        "filmes_por_genero = dict([('action', 'Mulan'), ('romance', 'Clouds'), ('disney', 'Rava and the Last Dragon'), ('pixar', 'Soul')])\n",
        "\n",
        "if 'pixar' in filmes_por_genero:\n",
        "  filmes_por_genero['musical'] = 'Over the Moon'\n",
        "\n",
        "print(filmes_por_genero)"
      ],
      "execution_count": null,
      "outputs": []
    },
    {
      "cell_type": "markdown",
      "metadata": {
        "id": "0hPMdJ3Cnwwd"
      },
      "source": [
        "## Diferentes tipos de valores em dicionários"
      ]
    },
    {
      "cell_type": "markdown",
      "metadata": {
        "id": "5LmEmk7Jn3D0"
      },
      "source": [
        "### Exercício 7\n",
        "\n",
        "Recordando que os dicionários podem também ter outros dicionários associados às chaves. Neste exercício você deve atribuir ao dicionário `entretenimento`, na chave 'filmes', o dicionário que criamos de `filmes_por_genero` nos exercícios anteriores. Nosso objetivo é possibilitar que os filmes possam ser categorizados também pelo seu gênero."
      ]
    },
    {
      "cell_type": "code",
      "metadata": {
        "id": "avt_2wWC5_o7",
        "outputId": "3e106236-4131-4af5-bb3e-f808fa00fd09",
        "colab": {
          "base_uri": "https://localhost:8080/"
        }
      },
      "source": [
        "entretenimento['filmes']=filmes_por_genero\n",
        "print(entretenimento)\n",
        "print(entretenimento['filmes']['romance'])"
      ],
      "execution_count": 18,
      "outputs": [
        {
          "output_type": "stream",
          "name": "stdout",
          "text": [
            "{'cantoras': 'Taylor Swift', 'livros': 'O Pequeno Príncipe', 'filmes': {'action': 'Mulan', 'romance': 'Clouds', 'disney': 'Rava and the Lat Dragon', 'pixar': 'Soul', 'musical': 'Over the moon'}}\n",
            "Clouds\n"
          ]
        }
      ]
    },
    {
      "cell_type": "code",
      "metadata": {
        "id": "2UsoHdExn2KM"
      },
      "source": [
        "#@title  { display-mode: \"form\" }\n",
        "entretenimento = {'filmes': 'Soul', 'séries': 'The Crown', 'livros': 'O Pequeno Príncipe', 'cantoras': 'Taylor Swift'}\n",
        "\n",
        "filmes_por_genero = dict([('action', 'Mulan'), ('romance', 'Clouds'), ('disney', 'Rava and the Last Dragon'), ('pixar', 'Soul')])\n",
        "\n",
        "entretenimento['filmes'] = filmes_por_genero\n",
        "\n",
        "print(entretenimento['filmes'])\n",
        "print(entretenimento['filmes']['romance'])"
      ],
      "execution_count": null,
      "outputs": []
    }
  ]
}